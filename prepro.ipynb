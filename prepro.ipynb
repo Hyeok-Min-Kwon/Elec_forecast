{
 "cells": [
  {
   "cell_type": "code",
   "execution_count": null,
   "id": "e24209ad",
   "metadata": {},
   "outputs": [],
   "source": [
    "import pandas as pd\n",
    "\n",
    "train = pd.read_csv(\"data/train.csv\", encoding=\"utf-8\")\n",
    "building_info = pd.read_csv(\"data/building_info.csv\", encoding=\"utf-8\")\n",
    "\n",
    "# building_info에서 '건물번호' 컬럼 제외한 나머지 컬럼 준비\n",
    "building_info_wo_number = building_info.drop(columns=[\"건물번호\"])\n",
    "\n",
    "# train과 building_info를 '건물번호' 기준으로 merge\n",
    "merged = pd.concat(\n",
    "    [\n",
    "        train,\n",
    "        building_info_wo_number.set_index(building_info[\"건물번호\"])\n",
    "        .reindex(train[\"건물번호\"])\n",
    "        .reset_index(drop=True),\n",
    "    ],\n",
    "    axis=1,\n",
    ")\n"
   ]
  }
 ],
 "metadata": {
  "kernelspec": {
   "display_name": "base",
   "language": "python",
   "name": "python3"
  },
  "language_info": {
   "name": "python",
   "version": "3.11.7"
  }
 },
 "nbformat": 4,
 "nbformat_minor": 5
}
